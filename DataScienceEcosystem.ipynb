{
 "cells": [
  {
   "cell_type": "markdown",
   "id": "652594ec-12dd-4450-9deb-38a9ee19eed4",
   "metadata": {},
   "source": [
    "# Data Science Tools and Ecosystem"
   ]
  },
  {
   "cell_type": "markdown",
   "id": "bb988810-4bc5-4631-9d05-af555efc3432",
   "metadata": {},
   "source": [
    "## In this notebook, Data Science Tools and Ecosystem are summarized."
   ]
  },
  {
   "cell_type": "markdown",
   "id": "0354f9f8-6d70-458e-8dd9-7a7659f258a1",
   "metadata": {},
   "source": [
    "### Objectives that this notebook covered"
   ]
  },
  {
   "cell_type": "markdown",
   "id": "eece2b02-8b66-4e05-be08-a9aa4e029b1b",
   "metadata": {},
   "source": [
    "####  Some examples are:\n",
    "#### *Sumarize the most popular languages used in data science\n",
    "#### *Recap some of the most commonly libreries used by data scientist\n",
    "#### *Practice the code cell and markdowns\n",
    "#### *Make a table with some of the development environment open source tools used in data science\n",
    "#### *Do some aritmethic operations\n"
   ]
  },
  {
   "cell_type": "markdown",
   "id": "a4b5e6fb-eff5-474b-aa5b-ea1e2353b391",
   "metadata": {},
   "source": [
    "### Some of the popular languages that Data Scientists use are:\n",
    "- Python: Python is a programming language widely used by Data Scientists. Python has in-built mathematical libraries and functions, making it easier to calculate mathematical problems and to perform data analysis.\n",
    "- R: R is a perfect language for data manipulation, processing and visualization, as well as statistical computing and machine learning.\n",
    "- SQL: Much of the world's data is stored in databases. SQL (Structured Query Language) is a domain-specific language that allows programmers to communicate with, edit and extract data from databases.\n",
    "- JAVA: ava has gained a prominent role in the data science industry. This is mainly because of the Java Virtual Machines, which provide a solid and efficient framework for popular big data tools, such as Hadoop, Spark, and Scala.\n",
    "\n"
   ]
  },
  {
   "cell_type": "markdown",
   "id": "934e820d-b5a4-4c7d-82ca-eb0330c1a7f3",
   "metadata": {},
   "source": [
    "### Some of the commonly used libraries used by Data Scientists include:\n",
    "- Tensorflow:  TensorFlow is a library for high-performance numerical computations with around 35,000 comments and a vibrant community of around 1,500 contributors.\n",
    "- Scypy: It’s extensively used for scientific and technical computations, because it extends NumPy and provides many user-friendly and efficient routines for scientific calculations.\n",
    "- Numpy: is the fundamental package for numerical computation in Python; it contains a powerful N-dimensional array object.\n",
    "- Pandas: it is heavily used for data analysis and cleaning. Pandas provides fast, flexible data structures, such as data frame CDs, which are designed to work with structured data very easily and intuitively. \n"
   ]
  },
  {
   "cell_type": "markdown",
   "id": "419654d6-0929-4747-974c-589b0660cea3",
   "metadata": {},
   "source": [
    "| Data Science Tools |\n",
    "|:------------------:|\n",
    "|Rs studio           |\n",
    "|Apache Spark        |\n",
    "|Tensorflow          |\n",
    "|Apache Hadoop       |"
   ]
  },
  {
   "cell_type": "markdown",
   "id": "50d4f652-10be-4225-a477-e54528dcd4e8",
   "metadata": {},
   "source": [
    "### Below are a few examples of evaluating arithmetic expressions in Python.\n",
    "\n",
    "15 + 20 = 35\n",
    "\n",
    "30 - 18 = 12\n",
    "\n",
    "10 * 10 = 100\n",
    "\n",
    "100 / 20 = 5"
   ]
  },
  {
   "cell_type": "markdown",
   "id": "edd39288-7908-40d3-a26e-6669b3178a35",
   "metadata": {},
   "source": [
    "### This a simple arithmetic expression to mutiply then add integers.\n",
    "\n"
   ]
  },
  {
   "cell_type": "code",
   "execution_count": 3,
   "id": "5d7f377c-e888-464d-af97-0b4e966f6ff2",
   "metadata": {},
   "outputs": [
    {
     "data": {
      "text/plain": [
       "17"
      ]
     },
     "execution_count": 3,
     "metadata": {},
     "output_type": "execute_result"
    }
   ],
   "source": [
    "(3*4)+5\n"
   ]
  },
  {
   "cell_type": "markdown",
   "id": "09f03513-a977-47bb-a7ae-8770390cc1bd",
   "metadata": {},
   "source": [
    "#### The result is equal to 17 because the hierarchy goes first in the multiplication of the numbers and then the addition"
   ]
  },
  {
   "cell_type": "markdown",
   "id": "b407ef76-3b37-4ee5-b64f-1fd655ea04c8",
   "metadata": {},
   "source": [
    "### This will convert 200 minutes to hours by diving by 60\n"
   ]
  },
  {
   "cell_type": "code",
   "execution_count": 4,
   "id": "7e6f5f63-2416-412f-9818-2c36d8a23c3c",
   "metadata": {},
   "outputs": [
    {
     "data": {
      "text/plain": [
       "3.3333333333333335"
      ]
     },
     "execution_count": 4,
     "metadata": {},
     "output_type": "execute_result"
    }
   ],
   "source": [
    "200/60"
   ]
  },
  {
   "cell_type": "markdown",
   "id": "40a5b28e-7f5f-4583-92ec-fc0351b5b979",
   "metadata": {},
   "source": [
    "#### The result is 3,33333 hours because 1 hour equals to 60 minutes"
   ]
  },
  {
   "cell_type": "markdown",
   "id": "736add04-7471-4834-a964-15feb1c11fec",
   "metadata": {},
   "source": [
    "### Objectives that this notebook covered\n"
   ]
  },
  {
   "cell_type": "markdown",
   "id": "f07ffc99-82f5-43fc-9306-80c593305cda",
   "metadata": {},
   "source": [
    "#### Some examples are:"
   ]
  },
  {
   "cell_type": "markdown",
   "id": "3e8d4fce-f623-46f8-b26c-56f58aec8b17",
   "metadata": {},
   "source": [
    "#### *Sumarize the most popular languages used in data science\n",
    "#### *Recap soome of the most commonly libreries used in data science\n",
    "#### *Practice the code cell and markdowns\n",
    "#### *Make a table with some of the development enviroment open source tools used in data science\n",
    "#### *Do some aritmethic operations"
   ]
  },
  {
   "cell_type": "markdown",
   "id": "0438a038-c0ad-4966-8ed8-995ef990dfb4",
   "metadata": {},
   "source": [
    "## Author"
   ]
  },
  {
   "cell_type": "markdown",
   "id": "cc0b236b-fe38-48c2-9124-d6048ab10a14",
   "metadata": {},
   "source": [
    "### William David Rodriguez"
   ]
  },
  {
   "cell_type": "code",
   "execution_count": null,
   "id": "6ff6bed4-0bb5-488f-9f07-36017ea518d3",
   "metadata": {},
   "outputs": [],
   "source": []
  },
  {
   "cell_type": "code",
   "execution_count": null,
   "id": "ebb790e0-7f9b-4966-9442-e983f0a3c489",
   "metadata": {},
   "outputs": [],
   "source": []
  }
 ],
 "metadata": {
  "kernelspec": {
   "display_name": "Python 3 (ipykernel)",
   "language": "python",
   "name": "python3"
  },
  "language_info": {
   "codemirror_mode": {
    "name": "ipython",
    "version": 3
   },
   "file_extension": ".py",
   "mimetype": "text/x-python",
   "name": "python",
   "nbconvert_exporter": "python",
   "pygments_lexer": "ipython3",
   "version": "3.11.9"
  }
 },
 "nbformat": 4,
 "nbformat_minor": 5
}
